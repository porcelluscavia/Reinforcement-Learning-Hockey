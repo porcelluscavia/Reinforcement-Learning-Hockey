{
 "cells": [
  {
   "cell_type": "code",
   "execution_count": 36,
   "metadata": {
    "ExecuteTime": {
     "end_time": "2019-08-21T19:12:18.980322Z",
     "start_time": "2019-08-21T19:12:18.819269Z"
    }
   },
   "outputs": [
    {
     "name": "stdout",
     "output_type": "stream",
     "text": [
      "Cannot re-register id: LaserHockey-v0\n"
     ]
    },
    {
     "data": {
      "text/plain": [
       "<module 'laser_hockey_env' from '/Users/samski/Downloads/Gym-RL-DQN-solution/laser_hockey_env.py'>"
      ]
     },
     "execution_count": 36,
     "metadata": {},
     "output_type": "execute_result"
    }
   ],
   "source": [
    "import numpy as np\n",
    "import laser_hockey_env as lh\n",
    "import gym\n",
    "import DuelingDQAgent\n",
    "from importlib import reload\n",
    "import torch\n",
    "import pylab as plt\n",
    "import random\n",
    "# %matplotlib inline\n",
    "from mpl_toolkits.mplot3d import Axes3D\n",
    "from matplotlib import cm\n",
    "reload(DuelingDQAgent)\n",
    "reload(lh)"
   ]
  },
  {
   "cell_type": "code",
   "execution_count": 37,
   "metadata": {
    "ExecuteTime": {
     "end_time": "2019-08-21T19:12:19.327491Z",
     "start_time": "2019-08-21T19:12:19.321977Z"
    }
   },
   "outputs": [],
   "source": [
    "np.set_printoptions(suppress=True)"
   ]
  },
  {
   "cell_type": "code",
   "execution_count": 50,
   "metadata": {
    "ExecuteTime": {
     "end_time": "2018-12-21T13:08:25.605760Z",
     "start_time": "2018-12-21T13:08:25.593455Z"
    }
   },
   "outputs": [],
   "source": [
    "env = lh.LaserHockeyEnv(mode=lh.LaserHockeyEnv.TRAIN_SHOOTING)"
   ]
  },
  {
   "cell_type": "code",
   "execution_count": 51,
   "metadata": {
    "ExecuteTime": {
     "end_time": "2018-12-21T13:08:25.849615Z",
     "start_time": "2018-12-21T13:08:25.845081Z"
    }
   },
   "outputs": [],
   "source": [
    "import random\n",
    "load=False\n",
    "if load:\n",
    "    Q = torch.load('modelQ.pt')\n",
    "    Q_next = torch.load('modelQNext.pt')\n",
    "else:\n",
    "    Q = None\n",
    "    Q_next = None\n",
    "player1 = DuelingDQAgent.DQNAgent(env, Q, Q_next)\n",
    "#player2 = lh.BasicOpponent()"
   ]
  },
  {
   "cell_type": "code",
   "execution_count": 53,
   "metadata": {},
   "outputs": [],
   "source": [
    "stats = []\n",
    "losses = []\n",
    "def running_mean(x, N):\n",
    "    cumsum = np.cumsum(np.insert(x, 0, 0)) \n",
    "    return (cumsum[N:] - cumsum[:-N]) / float(N)"
   ]
  },
  {
   "cell_type": "code",
   "execution_count": 55,
   "metadata": {},
   "outputs": [
    {
     "name": "stdout",
     "output_type": "stream",
     "text": [
      "1: Done after 500 steps. Reward: 0\n",
      "Player 1 scored\n",
      "21: Done after 500 steps. Reward: 0\n",
      "41: Done after 500 steps. Reward: 0\n",
      "61: Done after 500 steps. Reward: 0\n",
      "81: Done after 500 steps. Reward: 0\n",
      "Player 1 scored\n",
      "Player 1 scored\n"
     ]
    },
    {
     "ename": "KeyboardInterrupt",
     "evalue": "",
     "output_type": "error",
     "traceback": [
      "\u001b[0;31m---------------------------------------------------------------------------\u001b[0m",
      "\u001b[0;31mKeyboardInterrupt\u001b[0m                         Traceback (most recent call last)",
      "\u001b[0;32m<ipython-input-55-1c14bff8db15>\u001b[0m in \u001b[0;36m<module>\u001b[0;34m\u001b[0m\n\u001b[1;32m     17\u001b[0m         \u001b[0ma2\u001b[0m \u001b[0;34m=\u001b[0m \u001b[0;34m[\u001b[0m\u001b[0;36m0\u001b[0m\u001b[0;34m,\u001b[0m\u001b[0;36m0.\u001b[0m\u001b[0;34m,\u001b[0m\u001b[0;36m0\u001b[0m\u001b[0;34m]\u001b[0m\u001b[0;34m\u001b[0m\u001b[0;34m\u001b[0m\u001b[0m\n\u001b[1;32m     18\u001b[0m         \u001b[0mpobs\u001b[0m \u001b[0;34m=\u001b[0m \u001b[0mobs\u001b[0m\u001b[0;34m\u001b[0m\u001b[0;34m\u001b[0m\u001b[0m\n\u001b[0;32m---> 19\u001b[0;31m         \u001b[0mobs\u001b[0m\u001b[0;34m,\u001b[0m \u001b[0mr\u001b[0m\u001b[0;34m,\u001b[0m \u001b[0md\u001b[0m\u001b[0;34m,\u001b[0m \u001b[0minfo\u001b[0m \u001b[0;34m=\u001b[0m \u001b[0menv\u001b[0m\u001b[0;34m.\u001b[0m\u001b[0mstep\u001b[0m\u001b[0;34m(\u001b[0m\u001b[0mnp\u001b[0m\u001b[0;34m.\u001b[0m\u001b[0mhstack\u001b[0m\u001b[0;34m(\u001b[0m\u001b[0;34m[\u001b[0m\u001b[0ma1\u001b[0m\u001b[0;34m,\u001b[0m\u001b[0ma2\u001b[0m\u001b[0;34m]\u001b[0m\u001b[0;34m)\u001b[0m\u001b[0;34m)\u001b[0m\u001b[0;34m\u001b[0m\u001b[0;34m\u001b[0m\u001b[0m\n\u001b[0m\u001b[1;32m     20\u001b[0m         \u001b[0mtotal_reward\u001b[0m \u001b[0;34m+=\u001b[0m \u001b[0mr\u001b[0m\u001b[0;34m\u001b[0m\u001b[0;34m\u001b[0m\u001b[0m\n\u001b[1;32m     21\u001b[0m         \u001b[0mtransition\u001b[0m \u001b[0;34m=\u001b[0m \u001b[0;34m(\u001b[0m\u001b[0mpobs\u001b[0m\u001b[0;34m,\u001b[0m \u001b[0mcurr_act\u001b[0m\u001b[0;34m,\u001b[0m \u001b[0mr\u001b[0m\u001b[0;34m,\u001b[0m \u001b[0mobs\u001b[0m\u001b[0;34m,\u001b[0m \u001b[0md\u001b[0m\u001b[0;34m)\u001b[0m\u001b[0;34m\u001b[0m\u001b[0;34m\u001b[0m\u001b[0m\n",
      "\u001b[0;32m~/Downloads/Gym-RL-DQN-solution/laser_hockey_env.py\u001b[0m in \u001b[0;36mstep\u001b[0;34m(self, action)\u001b[0m\n\u001b[1;32m    541\u001b[0m         \u001b[0mself\u001b[0m\u001b[0;34m.\u001b[0m\u001b[0m_apply_action_with_max_speed\u001b[0m\u001b[0;34m(\u001b[0m\u001b[0mself\u001b[0m\u001b[0;34m.\u001b[0m\u001b[0mplayer1\u001b[0m\u001b[0;34m,\u001b[0m \u001b[0maction\u001b[0m\u001b[0;34m[\u001b[0m\u001b[0;34m:\u001b[0m\u001b[0;36m2\u001b[0m\u001b[0;34m]\u001b[0m\u001b[0;34m,\u001b[0m \u001b[0;36m10\u001b[0m\u001b[0;34m,\u001b[0m \u001b[0;32mTrue\u001b[0m\u001b[0;34m)\u001b[0m\u001b[0;34m\u001b[0m\u001b[0;34m\u001b[0m\u001b[0m\n\u001b[1;32m    542\u001b[0m         \u001b[0;31m# add her func to limit angle\u001b[0m\u001b[0;34m\u001b[0m\u001b[0;34m\u001b[0m\u001b[0;34m\u001b[0m\u001b[0m\n\u001b[0;32m--> 543\u001b[0;31m         \u001b[0mself\u001b[0m\u001b[0;34m.\u001b[0m\u001b[0mplayer1\u001b[0m\u001b[0;34m.\u001b[0m\u001b[0mApplyTorque\u001b[0m\u001b[0;34m(\u001b[0m\u001b[0maction\u001b[0m\u001b[0;34m[\u001b[0m\u001b[0;36m2\u001b[0m\u001b[0;34m]\u001b[0m \u001b[0;34m*\u001b[0m \u001b[0mTORQUEMULTIPLIER\u001b[0m\u001b[0;34m,\u001b[0m \u001b[0;32mTrue\u001b[0m\u001b[0;34m)\u001b[0m\u001b[0;34m\u001b[0m\u001b[0;34m\u001b[0m\u001b[0m\n\u001b[0m\u001b[1;32m    544\u001b[0m         \u001b[0mself\u001b[0m\u001b[0;34m.\u001b[0m\u001b[0m_apply_action_with_max_speed\u001b[0m\u001b[0;34m(\u001b[0m\u001b[0mself\u001b[0m\u001b[0;34m.\u001b[0m\u001b[0mplayer2\u001b[0m\u001b[0;34m,\u001b[0m \u001b[0maction\u001b[0m\u001b[0;34m[\u001b[0m\u001b[0;36m3\u001b[0m\u001b[0;34m:\u001b[0m\u001b[0;36m5\u001b[0m\u001b[0;34m]\u001b[0m\u001b[0;34m,\u001b[0m \u001b[0;36m10\u001b[0m\u001b[0;34m,\u001b[0m \u001b[0;32mFalse\u001b[0m\u001b[0;34m)\u001b[0m\u001b[0;34m\u001b[0m\u001b[0;34m\u001b[0m\u001b[0m\n\u001b[1;32m    545\u001b[0m         \u001b[0mself\u001b[0m\u001b[0;34m.\u001b[0m\u001b[0mplayer2\u001b[0m\u001b[0;34m.\u001b[0m\u001b[0mApplyTorque\u001b[0m\u001b[0;34m(\u001b[0m\u001b[0;34m-\u001b[0m\u001b[0maction\u001b[0m\u001b[0;34m[\u001b[0m\u001b[0;36m5\u001b[0m\u001b[0;34m]\u001b[0m \u001b[0;34m*\u001b[0m \u001b[0mTORQUEMULTIPLIER\u001b[0m\u001b[0;34m,\u001b[0m \u001b[0;32mTrue\u001b[0m\u001b[0;34m)\u001b[0m\u001b[0;34m\u001b[0m\u001b[0;34m\u001b[0m\u001b[0m\n",
      "\u001b[0;31mKeyboardInterrupt\u001b[0m: "
     ]
    }
   ],
   "source": [
    "max_episodes=600\n",
    "max_steps=500 \n",
    "fps=50\n",
    "#mode=\"random\"\n",
    "show=False\n",
    "for i in range(max_episodes):\n",
    "    # print(\"Starting a new episode\")    \n",
    "    total_reward = 0\n",
    "    obs = env.reset()\n",
    "#     obs_agent2 = env.obs_agent_two()\n",
    "    for t in range(max_steps):\n",
    "        env.render()\n",
    "        done = False\n",
    "        curr_act = player1.act(obs)\n",
    "        a1 = env.discrete_to_continous_action(curr_act)\n",
    "        #print(curr_act)\n",
    "        a2 = [0,0.,0]\n",
    "        pobs = obs\n",
    "        obs, r, d, info = env.step(np.hstack([a1,a2]))\n",
    "        total_reward += r\n",
    "        transition = (pobs, curr_act, r, obs, d)\n",
    "        player1.store_transition(transition)            \n",
    "        if done: break    \n",
    "    losses.extend(player1.train())\n",
    "    stats.append([i,total_reward])  \n",
    "#     stats.append([i,total_reward,t+1])\n",
    "    #print(total_reward)\n",
    "    #env.close()\n",
    "#     if episode%30 == 20 and save:\n",
    "#         torch.save(player1.actor, 'modelB5a.pt')\n",
    "#         torch.save(player1.actor, 'modelB5a.pt')\n",
    "    \n",
    "    if ((i-1)%20==0):\n",
    "        #print(info)\n",
    "        print(\"{}: Done after {} steps. Reward: {}\".format(i, t+1, total_reward))\n",
    "stats_np = np.asarray(stats)\n",
    "fig=plt.figure(figsize=(6,3.8))\n",
    "plt.plot(stats_np[:,1], label=\"reward\")\n",
    "plt.plot(running_mean(stats_np[:,1],20), label=\"smoothed reward\")\n",
    "plt.legend()\n",
    "fig.savefig(\"DDQN_Shooting_Graph_throwout.pdf\") \n",
    "\n",
    "env.close()"
   ]
  },
  {
   "cell_type": "code",
   "execution_count": 21,
   "metadata": {},
   "outputs": [],
   "source": [
    "#         torch.save(player1.Q, 'modelQ.pt')\n",
    "#         torch.save(player1.Q_next, 'modelQNext.pt')"
   ]
  },
  {
   "cell_type": "code",
   "execution_count": 22,
   "metadata": {},
   "outputs": [],
   "source": [
    "env = lh.LaserHockeyEnv(mode=lh.LaserHockeyEnv.TRAIN_DEFENSE)\n",
    "load=False\n",
    "if load:\n",
    "    Q = torch.load('modelQ.pt')\n",
    "    Q_next = torch.load('modelQNext.pt')\n",
    "else:\n",
    "    Q = None\n",
    "    Q_next = None\n",
    "player1 = DuelingDQAgent.DQNAgent(env, Q, Q_next)"
   ]
  },
  {
   "cell_type": "code",
   "execution_count": 23,
   "metadata": {},
   "outputs": [],
   "source": [
    "stats = []\n",
    "losses = []\n",
    "def running_mean(x, N):\n",
    "    cumsum = np.cumsum(np.insert(x, 0, 0)) \n",
    "    return (cumsum[N:] - cumsum[:-N]) / float(N)"
   ]
  },
  {
   "cell_type": "code",
   "execution_count": 24,
   "metadata": {},
   "outputs": [
    {
     "name": "stdout",
     "output_type": "stream",
     "text": [
      "Player 1 scored\n",
      "Player 2 scored\n",
      "1: Done after 500 steps. Reward: -3600\n",
      "Player 2 scored\n",
      "Player 1 scored\n",
      "Player 2 scored\n",
      "Player 2 scored\n",
      "Player 1 scored\n",
      "Player 2 scored\n",
      "Player 2 scored\n",
      "Player 1 scored\n",
      "Player 2 scored\n",
      "Player 2 scored\n",
      "Player 1 scored\n",
      "Player 1 scored\n",
      "Player 2 scored\n",
      "Player 1 scored\n",
      "Player 2 scored\n",
      "21: Done after 500 steps. Reward: -4580\n",
      "Player 1 scored\n",
      "Player 2 scored\n",
      "Player 2 scored\n",
      "Player 1 scored\n",
      "Player 2 scored\n",
      "Player 1 scored\n",
      "Player 2 scored\n",
      "Player 2 scored\n",
      "Player 2 scored\n",
      "Player 1 scored\n",
      "Player 2 scored\n",
      "Player 2 scored\n",
      "Player 2 scored\n",
      "Player 2 scored\n",
      "Player 2 scored\n",
      "Player 1 scored\n",
      "Player 1 scored\n",
      "41: Done after 500 steps. Reward: 3980\n",
      "Player 2 scored\n",
      "Player 2 scored\n",
      "Player 2 scored\n",
      "Player 2 scored\n",
      "Player 1 scored\n",
      "Player 2 scored\n",
      "Player 2 scored\n",
      "Player 2 scored\n",
      "Player 2 scored\n",
      "Player 2 scored\n",
      "Player 2 scored\n",
      "Player 1 scored\n",
      "Player 2 scored\n",
      "Player 2 scored\n",
      "Player 1 scored\n",
      "Player 1 scored\n",
      "61: Done after 500 steps. Reward: 3790\n",
      "Player 2 scored\n",
      "Player 1 scored\n",
      "Player 2 scored\n",
      "Player 2 scored\n",
      "Player 2 scored\n",
      "Player 2 scored\n",
      "Player 2 scored\n",
      "Player 1 scored\n",
      "Player 1 scored\n",
      "Player 2 scored\n",
      "Player 2 scored\n",
      "Player 2 scored\n",
      "Player 1 scored\n",
      "Player 2 scored\n",
      "81: Done after 500 steps. Reward: -4570\n",
      "Player 2 scored\n",
      "Player 2 scored\n",
      "Player 2 scored\n",
      "Player 2 scored\n",
      "Player 1 scored\n",
      "Player 2 scored\n",
      "Player 2 scored\n",
      "Player 1 scored\n",
      "Player 1 scored\n",
      "Player 2 scored\n",
      "Player 2 scored\n",
      "Player 1 scored\n",
      "Player 1 scored\n",
      "Player 2 scored\n",
      "Player 2 scored\n",
      "Player 1 scored\n",
      "101: Done after 500 steps. Reward: 0\n",
      "Player 1 scored\n",
      "Player 2 scored\n",
      "Player 2 scored\n",
      "Player 2 scored\n",
      "Player 2 scored\n",
      "Player 2 scored\n",
      "Player 2 scored\n",
      "Player 2 scored\n",
      "Player 2 scored\n",
      "Player 1 scored\n",
      "Player 2 scored\n",
      "Player 2 scored\n",
      "Player 2 scored\n",
      "121: Done after 500 steps. Reward: -4590\n",
      "Player 2 scored\n",
      "Player 1 scored\n",
      "Player 2 scored\n",
      "Player 1 scored\n",
      "Player 2 scored\n",
      "Player 2 scored\n",
      "Player 2 scored\n",
      "Player 2 scored\n",
      "Player 2 scored\n",
      "Player 2 scored\n",
      "Player 1 scored\n",
      "Player 1 scored\n",
      "141: Done after 500 steps. Reward: 0\n",
      "Player 2 scored\n",
      "Player 2 scored\n",
      "Player 1 scored\n",
      "Player 2 scored\n",
      "Player 2 scored\n",
      "Player 1 scored\n",
      "Player 1 scored\n",
      "Player 1 scored\n",
      "Player 2 scored\n",
      "Player 1 scored\n",
      "Player 1 scored\n",
      "Player 2 scored\n",
      "Player 2 scored\n",
      "Player 1 scored\n",
      "Player 2 scored\n",
      "Player 2 scored\n",
      "Player 1 scored\n",
      "Player 2 scored\n",
      "Player 1 scored\n",
      "Player 2 scored\n",
      "161: Done after 500 steps. Reward: -4560\n",
      "Player 2 scored\n",
      "Player 1 scored\n",
      "Player 1 scored\n",
      "Player 2 scored\n",
      "Player 1 scored\n",
      "Player 1 scored\n",
      "Player 2 scored\n",
      "Player 1 scored\n",
      "Player 2 scored\n",
      "Player 2 scored\n",
      "Player 2 scored\n",
      "Player 1 scored\n",
      "Player 1 scored\n",
      "Player 1 scored\n",
      "Player 2 scored\n",
      "181: Done after 500 steps. Reward: -4580\n",
      "Player 1 scored\n",
      "Player 1 scored\n",
      "Player 2 scored\n",
      "Player 2 scored\n",
      "Player 2 scored\n",
      "Player 1 scored\n",
      "Player 1 scored\n",
      "Player 2 scored\n",
      "Player 1 scored\n",
      "Player 1 scored\n",
      "Player 2 scored\n",
      "Player 2 scored\n",
      "Player 1 scored\n",
      "Player 1 scored\n",
      "Player 2 scored\n",
      "201: Done after 500 steps. Reward: 0\n",
      "Player 2 scored\n",
      "Player 1 scored\n",
      "Player 2 scored\n",
      "Player 2 scored\n",
      "Player 2 scored\n",
      "Player 2 scored\n",
      "Player 2 scored\n",
      "Player 1 scored\n",
      "Player 2 scored\n",
      "Player 2 scored\n",
      "Player 1 scored\n",
      "Player 2 scored\n",
      "Player 1 scored\n",
      "Player 2 scored\n",
      "Player 2 scored\n",
      "Player 2 scored\n",
      "Player 1 scored\n",
      "Player 1 scored\n",
      "221: Done after 500 steps. Reward: 4560\n",
      "Player 1 scored\n",
      "Player 2 scored\n",
      "Player 2 scored\n",
      "Player 2 scored\n",
      "Player 1 scored\n",
      "Player 1 scored\n",
      "Player 2 scored\n",
      "Player 2 scored\n",
      "Player 2 scored\n",
      "Player 2 scored\n",
      "Player 2 scored\n",
      "Player 2 scored\n",
      "Player 1 scored\n",
      "Player 1 scored\n",
      "Player 2 scored\n",
      "Player 2 scored\n",
      "Player 2 scored\n",
      "Player 2 scored\n",
      "241: Done after 500 steps. Reward: 0\n",
      "Player 2 scored\n",
      "Player 1 scored\n",
      "Player 2 scored\n",
      "Player 1 scored\n",
      "Player 2 scored\n",
      "Player 1 scored\n",
      "Player 2 scored\n",
      "Player 1 scored\n",
      "Player 2 scored\n",
      "Player 2 scored\n",
      "Player 1 scored\n",
      "Player 2 scored\n",
      "Player 2 scored\n",
      "Player 2 scored\n",
      "Player 2 scored\n",
      "Player 2 scored\n",
      "Player 1 scored\n",
      "Player 2 scored\n",
      "Player 2 scored\n",
      "261: Done after 500 steps. Reward: -1680\n",
      "Player 1 scored\n",
      "Player 2 scored\n",
      "Player 2 scored\n",
      "Player 1 scored\n",
      "Player 2 scored\n",
      "Player 1 scored\n",
      "Player 1 scored\n",
      "Player 2 scored\n",
      "Player 2 scored\n",
      "Player 2 scored\n",
      "Player 2 scored\n",
      "Player 2 scored\n",
      "Player 1 scored\n",
      "Player 1 scored\n",
      "281: Done after 500 steps. Reward: 0\n",
      "Player 1 scored\n",
      "Player 2 scored\n",
      "Player 2 scored\n",
      "Player 2 scored\n",
      "Player 2 scored\n",
      "Player 2 scored\n",
      "Player 2 scored\n",
      "Player 1 scored\n",
      "Player 1 scored\n",
      "Player 1 scored\n",
      "Player 1 scored\n",
      "Player 2 scored\n",
      "Player 2 scored\n",
      "Player 2 scored\n",
      "Player 1 scored\n",
      "Player 1 scored\n",
      "Player 2 scored\n",
      "Player 2 scored\n",
      "Player 2 scored\n",
      "Player 1 scored\n",
      "301: Done after 500 steps. Reward: 0\n",
      "Player 1 scored\n",
      "Player 2 scored\n",
      "Player 1 scored\n",
      "Player 2 scored\n",
      "Player 2 scored\n",
      "Player 2 scored\n",
      "Player 2 scored\n",
      "Player 1 scored\n",
      "Player 1 scored\n",
      "Player 1 scored\n",
      "Player 2 scored\n",
      "Player 2 scored\n",
      "Player 2 scored\n",
      "Player 2 scored\n",
      "Player 2 scored\n",
      "Player 1 scored\n",
      "321: Done after 500 steps. Reward: 0\n",
      "Player 1 scored\n",
      "Player 2 scored\n",
      "Player 2 scored\n",
      "Player 2 scored\n",
      "Player 2 scored\n",
      "Player 2 scored\n",
      "Player 1 scored\n",
      "Player 2 scored\n",
      "Player 2 scored\n",
      "Player 2 scored\n",
      "Player 1 scored\n",
      "Player 1 scored\n",
      "Player 2 scored\n",
      "341: Done after 500 steps. Reward: -4570\n",
      "Player 2 scored\n",
      "Player 1 scored\n",
      "Player 2 scored\n",
      "Player 1 scored\n",
      "Player 2 scored\n",
      "Player 2 scored\n",
      "Player 2 scored\n",
      "Player 2 scored\n",
      "Player 2 scored\n",
      "Player 2 scored\n",
      "Player 1 scored\n",
      "Player 2 scored\n",
      "Player 1 scored\n",
      "Player 2 scored\n",
      "Player 1 scored\n",
      "Player 2 scored\n",
      "Player 2 scored\n",
      "Player 2 scored\n",
      "361: Done after 500 steps. Reward: -4570\n",
      "Player 1 scored\n",
      "Player 1 scored\n",
      "Player 2 scored\n",
      "Player 2 scored\n",
      "Player 2 scored\n",
      "Player 2 scored\n",
      "Player 2 scored\n",
      "Player 2 scored\n",
      "Player 1 scored\n",
      "Player 2 scored\n",
      "Player 1 scored\n",
      "Player 2 scored\n",
      "Player 2 scored\n",
      "381: Done after 500 steps. Reward: -4570\n",
      "Player 1 scored\n",
      "Player 2 scored\n",
      "Player 2 scored\n",
      "Player 1 scored\n",
      "Player 2 scored\n",
      "Player 2 scored\n",
      "Player 1 scored\n",
      "Player 2 scored\n",
      "Player 2 scored\n",
      "Player 1 scored\n",
      "Player 2 scored\n",
      "Player 2 scored\n",
      "Player 2 scored\n",
      "Player 1 scored\n",
      "401: Done after 500 steps. Reward: 1980\n",
      "Player 1 scored\n",
      "Player 2 scored\n",
      "Player 2 scored\n",
      "Player 2 scored\n",
      "Player 2 scored\n",
      "Player 2 scored\n",
      "Player 1 scored\n",
      "Player 1 scored\n",
      "Player 2 scored\n",
      "Player 2 scored\n",
      "Player 2 scored\n",
      "Player 2 scored\n",
      "Player 1 scored\n",
      "Player 1 scored\n",
      "Player 2 scored\n",
      "Player 2 scored\n",
      "Player 2 scored\n",
      "421: Done after 500 steps. Reward: -4590\n",
      "Player 2 scored\n",
      "Player 2 scored\n",
      "Player 1 scored\n",
      "Player 2 scored\n",
      "Player 2 scored\n",
      "Player 2 scored\n",
      "Player 2 scored\n",
      "Player 2 scored\n",
      "Player 2 scored\n",
      "Player 2 scored\n",
      "Player 2 scored\n",
      "Player 2 scored\n",
      "Player 1 scored\n",
      "Player 2 scored\n",
      "Player 2 scored\n",
      "Player 2 scored\n",
      "Player 2 scored\n",
      "Player 2 scored\n",
      "441: Done after 500 steps. Reward: -4560\n",
      "Player 2 scored\n",
      "Player 2 scored\n",
      "Player 2 scored\n",
      "Player 2 scored\n",
      "Player 1 scored\n",
      "Player 2 scored\n",
      "Player 2 scored\n",
      "Player 2 scored\n",
      "Player 2 scored\n",
      "Player 2 scored\n",
      "Player 2 scored\n",
      "Player 1 scored\n",
      "Player 2 scored\n",
      "Player 1 scored\n",
      "Player 1 scored\n",
      "Player 2 scored\n",
      "Player 2 scored\n",
      "461: Done after 500 steps. Reward: -4570\n",
      "Player 2 scored\n",
      "Player 2 scored\n",
      "Player 1 scored\n",
      "Player 1 scored\n",
      "Player 2 scored\n",
      "Player 1 scored\n",
      "Player 1 scored\n",
      "Player 2 scored\n",
      "Player 2 scored\n",
      "Player 2 scored\n",
      "Player 2 scored\n",
      "Player 2 scored\n",
      "Player 2 scored\n",
      "Player 2 scored\n",
      "Player 2 scored\n",
      "481: Done after 500 steps. Reward: 0\n",
      "Player 2 scored\n",
      "Player 2 scored\n",
      "Player 2 scored\n",
      "Player 2 scored\n",
      "Player 2 scored\n",
      "Player 2 scored\n",
      "Player 2 scored\n",
      "Player 2 scored\n",
      "Player 2 scored\n",
      "Player 2 scored\n",
      "Player 1 scored\n",
      "Player 2 scored\n",
      "Player 1 scored\n",
      "Player 2 scored\n",
      "Player 1 scored\n",
      "Player 2 scored\n",
      "Player 2 scored\n",
      "Player 1 scored\n",
      "501: Done after 500 steps. Reward: 3970\n",
      "Player 2 scored\n",
      "Player 2 scored\n",
      "Player 2 scored\n",
      "Player 2 scored\n",
      "Player 2 scored\n",
      "Player 2 scored\n",
      "Player 2 scored\n",
      "Player 2 scored\n",
      "Player 2 scored\n",
      "Player 2 scored\n",
      "Player 2 scored\n",
      "Player 1 scored\n",
      "Player 2 scored\n",
      "Player 2 scored\n",
      "Player 2 scored\n",
      "Player 2 scored\n",
      "521: Done after 500 steps. Reward: -4570\n",
      "Player 2 scored\n",
      "Player 2 scored\n",
      "Player 2 scored\n",
      "Player 1 scored\n",
      "Player 2 scored\n",
      "Player 2 scored\n",
      "Player 2 scored\n",
      "Player 2 scored\n",
      "Player 2 scored\n",
      "Player 2 scored\n",
      "Player 2 scored\n",
      "Player 1 scored\n",
      "Player 2 scored\n",
      "Player 2 scored\n",
      "Player 2 scored\n",
      "Player 2 scored\n",
      "Player 2 scored\n",
      "541: Done after 500 steps. Reward: -4590\n",
      "Player 2 scored\n",
      "Player 2 scored\n",
      "Player 2 scored\n",
      "Player 2 scored\n",
      "Player 2 scored\n",
      "Player 2 scored\n",
      "Player 2 scored\n"
     ]
    },
    {
     "name": "stdout",
     "output_type": "stream",
     "text": [
      "Player 2 scored\n",
      "Player 2 scored\n",
      "Player 2 scored\n",
      "Player 1 scored\n",
      "Player 2 scored\n",
      "Player 1 scored\n",
      "Player 2 scored\n",
      "Player 2 scored\n",
      "Player 1 scored\n",
      "561: Done after 500 steps. Reward: 4020\n",
      "Player 2 scored\n",
      "Player 1 scored\n",
      "Player 2 scored\n",
      "Player 1 scored\n",
      "Player 1 scored\n",
      "Player 1 scored\n",
      "Player 2 scored\n",
      "Player 2 scored\n",
      "Player 1 scored\n",
      "Player 1 scored\n",
      "Player 1 scored\n",
      "Player 2 scored\n",
      "Player 1 scored\n",
      "Player 2 scored\n",
      "Player 2 scored\n",
      "Player 2 scored\n",
      "581: Done after 500 steps. Reward: -4570\n",
      "Player 2 scored\n",
      "Player 2 scored\n",
      "Player 2 scored\n",
      "Player 1 scored\n",
      "Player 2 scored\n",
      "Player 2 scored\n",
      "Player 2 scored\n",
      "Player 2 scored\n",
      "Player 1 scored\n",
      "Player 2 scored\n",
      "Player 2 scored\n",
      "Player 1 scored\n"
     ]
    },
    {
     "data": {
      "image/png": "[encoded data removed]",
      "text/plain": [
       "<Figure size 432x273.6 with 1 Axes>"
      ]
     },
     "metadata": {
      "needs_background": "light"
     },
     "output_type": "display_data"
    }
   ],
   "source": [
    "max_episodes=600\n",
    "max_steps=500 \n",
    "fps=50\n",
    "#mode=\"random\"\n",
    "show=False\n",
    "for i in range(max_episodes):\n",
    "    # print(\"Starting a new episode\")    \n",
    "    total_reward = 0\n",
    "    obs = env.reset()\n",
    "#     obs_agent2 = env.obs_agent_two()\n",
    "    for t in range(max_steps):\n",
    "        #env.render()\n",
    "        done = False\n",
    "        curr_act = player1.act(obs)\n",
    "        a1 = env.discrete_to_continous_action(curr_act)\n",
    "        #print(curr_act)\n",
    "        a2 = [0,0.,0]\n",
    "        pobs = obs\n",
    "        obs, r, d, info = env.step(np.hstack([a1,a2]))\n",
    "        total_reward += r\n",
    "        transition = (pobs, curr_act, r, obs, d)\n",
    "        player1.store_transition(transition)            \n",
    "        if done: break    \n",
    "    losses.extend(player1.train())\n",
    "    stats.append([i,total_reward])  \n",
    "#     stats.append([i,total_reward,t+1])\n",
    "    #print(total_reward)\n",
    "    #env.close()\n",
    "#     if episode%30 == 20 and save:\n",
    "#         torch.save(player1.actor, 'modelB5a.pt')\n",
    "#         torch.save(player1.actor, 'modelB5a.pt')\n",
    "    \n",
    "    if ((i-1)%20==0):\n",
    "        #print(info)\n",
    "        print(\"{}: Done after {} steps. Reward: {}\".format(i, t+1, total_reward))\n",
    "stats_np = np.asarray(stats)\n",
    "fig=plt.figure(figsize=(6,3.8))\n",
    "plt.plot(stats_np[:,1], label=\"reward\")\n",
    "plt.plot(running_mean(stats_np[:,1],20), label=\"smoothed reward\")\n",
    "plt.legend()\n",
    "fig.savefig(\"DDQN_Defense_Graph_throwout.pdf\")    "
   ]
  },
  {
   "cell_type": "code",
   "execution_count": 25,
   "metadata": {},
   "outputs": [],
   "source": [
    "#         torch.save(player1.Q, 'modelQShootDef.pt')\n",
    "#         torch.save(player1.Q_next, 'modelQNextShootDef.pt')"
   ]
  },
  {
   "cell_type": "code",
   "execution_count": 26,
   "metadata": {},
   "outputs": [
    {
     "name": "stdout",
     "output_type": "stream",
     "text": [
      "Cannot re-register id: LaserHockey-v0\n"
     ]
    }
   ],
   "source": [
    "reload(lh)\n",
    "env = lh.LaserHockeyEnv()\n",
    "o = env.reset()\n",
    "\n",
    "load=False\n",
    "if load:\n",
    "    Q = torch.load('modelQShootDef.pt')\n",
    "    Q_next = torch.load('modelQNextShootDef.pt')\n",
    "else:\n",
    "    Q = None\n",
    "    Q_next = None\n",
    "player1 = DuelingDQAgent.DQNAgent(env, Q, Q_next)"
   ]
  },
  {
   "cell_type": "code",
   "execution_count": 30,
   "metadata": {},
   "outputs": [
    {
     "name": "stdout",
     "output_type": "stream",
     "text": [
      "Player 2 scored\n",
      "Player 2 scored\n",
      "Player 2 scored\n",
      "Player 2 scored\n",
      "Player 2 scored\n",
      "Player 2 scored\n",
      "Player 2 scored\n",
      "Player 2 scored\n",
      "Player 2 scored\n",
      "Player 2 scored\n",
      "Player 1 scored\n",
      "Player 2 scored\n",
      "Player 2 scored\n",
      "Player 2 scored\n",
      "Player 2 scored\n",
      "Player 2 scored\n",
      "Player 2 scored\n",
      "Player 2 scored\n",
      "Player 2 scored\n",
      "Player 2 scored\n",
      "Player 2 scored\n",
      "Player 2 scored\n",
      "Player 2 scored\n",
      "Player 2 scored\n",
      "Player 2 scored\n",
      "Player 1 scored\n",
      "Player 2 scored\n",
      "Player 2 scored\n",
      "Player 2 scored\n",
      "Player 2 scored\n",
      "Player 2 scored\n",
      "Player 2 scored\n",
      "Player 2 scored\n",
      "Player 2 scored\n",
      "Player 2 scored\n",
      "Player 2 scored\n",
      "Player 2 scored\n",
      "Player 2 scored\n",
      "Player 2 scored\n",
      "Player 2 scored\n",
      "Player 2 scored\n",
      "Player 2 scored\n",
      "Player 1 scored\n",
      "Player 2 scored\n",
      "Player 1 scored\n",
      "Player 2 scored\n",
      "Player 2 scored\n",
      "Player 2 scored\n",
      "Player 2 scored\n",
      "Player 1 scored\n",
      "Player 2 scored\n",
      "Player 2 scored\n",
      "Player 1 scored\n",
      "Player 2 scored\n",
      "Player 1 scored\n",
      "Player 2 scored\n",
      "Player 1 scored\n",
      "Player 1 scored\n",
      "Player 2 scored\n",
      "Player 2 scored\n",
      "Player 1 scored\n",
      "Player 2 scored\n",
      "Player 2 scored\n",
      "Player 2 scored\n",
      "Player 2 scored\n",
      "Player 2 scored\n",
      "Player 1 scored\n",
      "Player 2 scored\n",
      "Player 2 scored\n",
      "Player 2 scored\n",
      "Player 1 scored\n",
      "Player 2 scored\n",
      "Player 2 scored\n",
      "Player 2 scored\n",
      "Player 2 scored\n",
      "Player 2 scored\n",
      "Player 2 scored\n",
      "Player 2 scored\n",
      "Player 2 scored\n",
      "Player 2 scored\n",
      "Player 2 scored\n",
      "Player 2 scored\n",
      "Player 2 scored\n",
      "Player 2 scored\n",
      "Player 2 scored\n",
      "Player 2 scored\n",
      "Player 2 scored\n",
      "Player 1 scored\n",
      "Player 2 scored\n",
      "Player 2 scored\n",
      "Player 2 scored\n",
      "Player 2 scored\n",
      "Player 2 scored\n",
      "Player 1 scored\n",
      "Player 2 scored\n",
      "Player 2 scored\n",
      "Player 2 scored\n",
      "Player 1 scored\n",
      "Player 2 scored\n",
      "Player 2 scored\n"
     ]
    },
    {
     "ename": "KeyboardInterrupt",
     "evalue": "",
     "output_type": "error",
     "traceback": [
      "\u001b[0;31m---------------------------------------------------------------------------\u001b[0m",
      "\u001b[0;31mKeyboardInterrupt\u001b[0m                         Traceback (most recent call last)",
      "\u001b[0;32m<ipython-input-30-ccb7bfb78f4e>\u001b[0m in \u001b[0;36m<module>\u001b[0;34m\u001b[0m\n\u001b[1;32m      6\u001b[0m     \u001b[0mobs_agent2\u001b[0m \u001b[0;34m=\u001b[0m \u001b[0menv\u001b[0m\u001b[0;34m.\u001b[0m\u001b[0mobs_agent_two\u001b[0m\u001b[0;34m(\u001b[0m\u001b[0;34m)\u001b[0m\u001b[0;34m\u001b[0m\u001b[0;34m\u001b[0m\u001b[0m\n\u001b[1;32m      7\u001b[0m     \u001b[0;32mfor\u001b[0m \u001b[0mt\u001b[0m \u001b[0;32min\u001b[0m \u001b[0mrange\u001b[0m\u001b[0;34m(\u001b[0m\u001b[0mmax_steps\u001b[0m\u001b[0;34m)\u001b[0m\u001b[0;34m:\u001b[0m\u001b[0;34m\u001b[0m\u001b[0;34m\u001b[0m\u001b[0m\n\u001b[0;32m----> 8\u001b[0;31m         \u001b[0menv\u001b[0m\u001b[0;34m.\u001b[0m\u001b[0mrender\u001b[0m\u001b[0;34m(\u001b[0m\u001b[0;34m)\u001b[0m\u001b[0;34m\u001b[0m\u001b[0;34m\u001b[0m\u001b[0m\n\u001b[0m\u001b[1;32m      9\u001b[0m         \u001b[0mcurr_act\u001b[0m \u001b[0;34m=\u001b[0m \u001b[0mplayer1\u001b[0m\u001b[0;34m.\u001b[0m\u001b[0mact\u001b[0m\u001b[0;34m(\u001b[0m\u001b[0mobs\u001b[0m\u001b[0;34m)\u001b[0m\u001b[0;34m\u001b[0m\u001b[0;34m\u001b[0m\u001b[0m\n\u001b[1;32m     10\u001b[0m         \u001b[0ma1\u001b[0m \u001b[0;34m=\u001b[0m \u001b[0menv\u001b[0m\u001b[0;34m.\u001b[0m\u001b[0mdiscrete_to_continous_action\u001b[0m\u001b[0;34m(\u001b[0m\u001b[0mcurr_act\u001b[0m\u001b[0;34m)\u001b[0m\u001b[0;34m\u001b[0m\u001b[0;34m\u001b[0m\u001b[0m\n",
      "\u001b[0;32m~/Downloads/Gym-RL-DQN-solution/laser_hockey_env.py\u001b[0m in \u001b[0;36mrender\u001b[0;34m(self, mode)\u001b[0m\n\u001b[1;32m    590\u001b[0m         \u001b[0;31m# self.score_label.draw()\u001b[0m\u001b[0;34m\u001b[0m\u001b[0;34m\u001b[0m\u001b[0;34m\u001b[0m\u001b[0m\n\u001b[1;32m    591\u001b[0m \u001b[0;34m\u001b[0m\u001b[0m\n\u001b[0;32m--> 592\u001b[0;31m         \u001b[0;32mreturn\u001b[0m \u001b[0mself\u001b[0m\u001b[0;34m.\u001b[0m\u001b[0mviewer\u001b[0m\u001b[0;34m.\u001b[0m\u001b[0mrender\u001b[0m\u001b[0;34m(\u001b[0m\u001b[0mreturn_rgb_array\u001b[0m\u001b[0;34m=\u001b[0m\u001b[0mmode\u001b[0m \u001b[0;34m==\u001b[0m \u001b[0;34m'rgb_array'\u001b[0m\u001b[0;34m)\u001b[0m\u001b[0;34m\u001b[0m\u001b[0;34m\u001b[0m\u001b[0m\n\u001b[0m\u001b[1;32m    593\u001b[0m \u001b[0;34m\u001b[0m\u001b[0m\n\u001b[1;32m    594\u001b[0m     \u001b[0;32mdef\u001b[0m \u001b[0mclose\u001b[0m\u001b[0;34m(\u001b[0m\u001b[0mself\u001b[0m\u001b[0;34m)\u001b[0m\u001b[0;34m:\u001b[0m\u001b[0;34m\u001b[0m\u001b[0;34m\u001b[0m\u001b[0m\n",
      "\u001b[0;32m~/anaconda3/lib/python3.7/site-packages/gym/envs/classic_control/rendering.py\u001b[0m in \u001b[0;36mrender\u001b[0;34m(self, return_rgb_array)\u001b[0m\n\u001b[1;32m    125\u001b[0m             \u001b[0marr\u001b[0m \u001b[0;34m=\u001b[0m \u001b[0marr\u001b[0m\u001b[0;34m.\u001b[0m\u001b[0mreshape\u001b[0m\u001b[0;34m(\u001b[0m\u001b[0mbuffer\u001b[0m\u001b[0;34m.\u001b[0m\u001b[0mheight\u001b[0m\u001b[0;34m,\u001b[0m \u001b[0mbuffer\u001b[0m\u001b[0;34m.\u001b[0m\u001b[0mwidth\u001b[0m\u001b[0;34m,\u001b[0m \u001b[0;36m4\u001b[0m\u001b[0;34m)\u001b[0m\u001b[0;34m\u001b[0m\u001b[0;34m\u001b[0m\u001b[0m\n\u001b[1;32m    126\u001b[0m             \u001b[0marr\u001b[0m \u001b[0;34m=\u001b[0m \u001b[0marr\u001b[0m\u001b[0;34m[\u001b[0m\u001b[0;34m:\u001b[0m\u001b[0;34m:\u001b[0m\u001b[0;34m-\u001b[0m\u001b[0;36m1\u001b[0m\u001b[0;34m,\u001b[0m\u001b[0;34m:\u001b[0m\u001b[0;34m,\u001b[0m\u001b[0;36m0\u001b[0m\u001b[0;34m:\u001b[0m\u001b[0;36m3\u001b[0m\u001b[0;34m]\u001b[0m\u001b[0;34m\u001b[0m\u001b[0;34m\u001b[0m\u001b[0m\n\u001b[0;32m--> 127\u001b[0;31m         \u001b[0mself\u001b[0m\u001b[0;34m.\u001b[0m\u001b[0mwindow\u001b[0m\u001b[0;34m.\u001b[0m\u001b[0mflip\u001b[0m\u001b[0;34m(\u001b[0m\u001b[0;34m)\u001b[0m\u001b[0;34m\u001b[0m\u001b[0;34m\u001b[0m\u001b[0m\n\u001b[0m\u001b[1;32m    128\u001b[0m         \u001b[0mself\u001b[0m\u001b[0;34m.\u001b[0m\u001b[0monetime_geoms\u001b[0m \u001b[0;34m=\u001b[0m \u001b[0;34m[\u001b[0m\u001b[0;34m]\u001b[0m\u001b[0;34m\u001b[0m\u001b[0;34m\u001b[0m\u001b[0m\n\u001b[1;32m    129\u001b[0m         \u001b[0;32mreturn\u001b[0m \u001b[0marr\u001b[0m \u001b[0;32mif\u001b[0m \u001b[0mreturn_rgb_array\u001b[0m \u001b[0;32melse\u001b[0m \u001b[0mself\u001b[0m\u001b[0;34m.\u001b[0m\u001b[0misopen\u001b[0m\u001b[0;34m\u001b[0m\u001b[0;34m\u001b[0m\u001b[0m\n",
      "\u001b[0;32m~/anaconda3/lib/python3.7/site-packages/pyglet/window/cocoa/__init__.py\u001b[0m in \u001b[0;36mflip\u001b[0;34m(self)\u001b[0m\n\u001b[1;32m    287\u001b[0m         \u001b[0mself\u001b[0m\u001b[0;34m.\u001b[0m\u001b[0mdraw_mouse_cursor\u001b[0m\u001b[0;34m(\u001b[0m\u001b[0;34m)\u001b[0m\u001b[0;34m\u001b[0m\u001b[0;34m\u001b[0m\u001b[0m\n\u001b[1;32m    288\u001b[0m         \u001b[0;32mif\u001b[0m \u001b[0mself\u001b[0m\u001b[0;34m.\u001b[0m\u001b[0mcontext\u001b[0m\u001b[0;34m:\u001b[0m\u001b[0;34m\u001b[0m\u001b[0;34m\u001b[0m\u001b[0m\n\u001b[0;32m--> 289\u001b[0;31m             \u001b[0mself\u001b[0m\u001b[0;34m.\u001b[0m\u001b[0mcontext\u001b[0m\u001b[0;34m.\u001b[0m\u001b[0mflip\u001b[0m\u001b[0;34m(\u001b[0m\u001b[0;34m)\u001b[0m\u001b[0;34m\u001b[0m\u001b[0;34m\u001b[0m\u001b[0m\n\u001b[0m\u001b[1;32m    290\u001b[0m \u001b[0;34m\u001b[0m\u001b[0m\n\u001b[1;32m    291\u001b[0m     \u001b[0;32mdef\u001b[0m \u001b[0mdispatch_events\u001b[0m\u001b[0;34m(\u001b[0m\u001b[0mself\u001b[0m\u001b[0;34m)\u001b[0m\u001b[0;34m:\u001b[0m\u001b[0;34m\u001b[0m\u001b[0;34m\u001b[0m\u001b[0m\n",
      "\u001b[0;32m~/anaconda3/lib/python3.7/site-packages/pyglet/gl/cocoa.py\u001b[0m in \u001b[0;36mflip\u001b[0;34m(self)\u001b[0m\n\u001b[1;32m    325\u001b[0m \u001b[0;34m\u001b[0m\u001b[0m\n\u001b[1;32m    326\u001b[0m     \u001b[0;32mdef\u001b[0m \u001b[0mflip\u001b[0m\u001b[0;34m(\u001b[0m\u001b[0mself\u001b[0m\u001b[0;34m)\u001b[0m\u001b[0;34m:\u001b[0m\u001b[0;34m\u001b[0m\u001b[0;34m\u001b[0m\u001b[0m\n\u001b[0;32m--> 327\u001b[0;31m         \u001b[0mself\u001b[0m\u001b[0;34m.\u001b[0m\u001b[0m_nscontext\u001b[0m\u001b[0;34m.\u001b[0m\u001b[0mflushBuffer\u001b[0m\u001b[0;34m(\u001b[0m\u001b[0;34m)\u001b[0m\u001b[0;34m\u001b[0m\u001b[0;34m\u001b[0m\u001b[0m\n\u001b[0m",
      "\u001b[0;32m~/anaconda3/lib/python3.7/site-packages/pyglet/libs/darwin/cocoapy/runtime.py\u001b[0m in \u001b[0;36m__call__\u001b[0;34m(self, *args)\u001b[0m\n\u001b[1;32m    783\u001b[0m     \u001b[0;32mdef\u001b[0m \u001b[0m__call__\u001b[0m\u001b[0;34m(\u001b[0m\u001b[0mself\u001b[0m\u001b[0;34m,\u001b[0m \u001b[0;34m*\u001b[0m\u001b[0margs\u001b[0m\u001b[0;34m)\u001b[0m\u001b[0;34m:\u001b[0m\u001b[0;34m\u001b[0m\u001b[0;34m\u001b[0m\u001b[0m\n\u001b[1;32m    784\u001b[0m         \u001b[0;34m\"\"\"Call the method with the given arguments.\"\"\"\u001b[0m\u001b[0;34m\u001b[0m\u001b[0;34m\u001b[0m\u001b[0m\n\u001b[0;32m--> 785\u001b[0;31m         \u001b[0;32mreturn\u001b[0m \u001b[0mself\u001b[0m\u001b[0;34m.\u001b[0m\u001b[0mmethod\u001b[0m\u001b[0;34m(\u001b[0m\u001b[0mself\u001b[0m\u001b[0;34m.\u001b[0m\u001b[0mobjc_id\u001b[0m\u001b[0;34m,\u001b[0m \u001b[0;34m*\u001b[0m\u001b[0margs\u001b[0m\u001b[0;34m)\u001b[0m\u001b[0;34m\u001b[0m\u001b[0;34m\u001b[0m\u001b[0m\n\u001b[0m\u001b[1;32m    786\u001b[0m \u001b[0;34m\u001b[0m\u001b[0m\n\u001b[1;32m    787\u001b[0m \u001b[0;31m######################################################################\u001b[0m\u001b[0;34m\u001b[0m\u001b[0;34m\u001b[0m\u001b[0;34m\u001b[0m\u001b[0m\n",
      "\u001b[0;32m~/anaconda3/lib/python3.7/site-packages/pyglet/libs/darwin/cocoapy/runtime.py\u001b[0m in \u001b[0;36m__call__\u001b[0;34m(self, objc_id, *args)\u001b[0m\n\u001b[1;32m    753\u001b[0m         \u001b[0mf\u001b[0m \u001b[0;34m=\u001b[0m \u001b[0mself\u001b[0m\u001b[0;34m.\u001b[0m\u001b[0mget_callable\u001b[0m\u001b[0;34m(\u001b[0m\u001b[0;34m)\u001b[0m\u001b[0;34m\u001b[0m\u001b[0;34m\u001b[0m\u001b[0m\n\u001b[1;32m    754\u001b[0m         \u001b[0;32mtry\u001b[0m\u001b[0;34m:\u001b[0m\u001b[0;34m\u001b[0m\u001b[0;34m\u001b[0m\u001b[0m\n\u001b[0;32m--> 755\u001b[0;31m             \u001b[0mresult\u001b[0m \u001b[0;34m=\u001b[0m \u001b[0mf\u001b[0m\u001b[0;34m(\u001b[0m\u001b[0mobjc_id\u001b[0m\u001b[0;34m,\u001b[0m \u001b[0mself\u001b[0m\u001b[0;34m.\u001b[0m\u001b[0mselector\u001b[0m\u001b[0;34m,\u001b[0m \u001b[0;34m*\u001b[0m\u001b[0margs\u001b[0m\u001b[0;34m)\u001b[0m\u001b[0;34m\u001b[0m\u001b[0;34m\u001b[0m\u001b[0m\n\u001b[0m\u001b[1;32m    756\u001b[0m             \u001b[0;31m# Convert result to python type if it is a instance or class pointer.\u001b[0m\u001b[0;34m\u001b[0m\u001b[0;34m\u001b[0m\u001b[0;34m\u001b[0m\u001b[0m\n\u001b[1;32m    757\u001b[0m             \u001b[0;32mif\u001b[0m \u001b[0mself\u001b[0m\u001b[0;34m.\u001b[0m\u001b[0mrestype\u001b[0m \u001b[0;34m==\u001b[0m \u001b[0mObjCInstance\u001b[0m\u001b[0;34m:\u001b[0m\u001b[0;34m\u001b[0m\u001b[0;34m\u001b[0m\u001b[0m\n",
      "\u001b[0;31mKeyboardInterrupt\u001b[0m: "
     ]
    }
   ],
   "source": [
    "player2 = lh.BasicOpponent()\n",
    "\n",
    "for i in range(max_episodes):\n",
    "    # print(\"Starting a new episode\")    \n",
    "    obs = env.reset()\n",
    "    obs_agent2 = env.obs_agent_two()\n",
    "    for t in range(max_steps):\n",
    "        env.render()\n",
    "        curr_act = player1.act(obs)\n",
    "        a1 = env.discrete_to_continous_action(curr_act)\n",
    "        a2 = player2.act(obs_agent2)\n",
    "        obs, r, d, info = env.step(np.hstack([a1,a2]))\n",
    "\n",
    "        obs_buffer.append(obs)\n",
    "        obs_agent2 = env.obs_agent_two()\n",
    "        if d: break\n",
    "env.close()"
   ]
  },
  {
   "cell_type": "markdown",
   "metadata": {
    "ExecuteTime": {
     "end_time": "2018-12-20T20:37:41.013424Z",
     "start_time": "2018-12-20T20:37:41.009298Z"
    }
   },
   "source": [
    "# Hand-crafted Opponent"
   ]
  },
  {
   "cell_type": "code",
   "execution_count": 3,
   "metadata": {
    "ExecuteTime": {
     "end_time": "2019-08-21T19:16:04.371746Z",
     "start_time": "2019-08-21T19:16:04.353350Z"
    }
   },
   "outputs": [
    {
     "name": "stdout",
     "output_type": "stream",
     "text": [
      "Cannot re-register id: LaserHockey-v0\n"
     ]
    },
    {
     "data": {
      "text/plain": [
       "<module 'laser_hockey_env' from '/Users/samski/Downloads/Gym-RL-DQN-solution/laser_hockey_env.py'>"
      ]
     },
     "execution_count": 3,
     "metadata": {},
     "output_type": "execute_result"
    }
   ],
   "source": [
    "reload(lh)"
   ]
  },
  {
   "cell_type": "code",
   "execution_count": 4,
   "metadata": {
    "ExecuteTime": {
     "end_time": "2019-08-21T19:16:04.516774Z",
     "start_time": "2019-08-21T19:16:04.510863Z"
    }
   },
   "outputs": [],
   "source": [
    "env = lh.LaserHockeyEnv()"
   ]
  },
  {
   "cell_type": "code",
   "execution_count": 5,
   "metadata": {
    "ExecuteTime": {
     "end_time": "2019-08-21T19:16:04.729445Z",
     "start_time": "2019-08-21T19:16:04.666357Z"
    }
   },
   "outputs": [],
   "source": [
    "o = env.reset()\n",
    "#env.render()"
   ]
  },
  {
   "cell_type": "code",
   "execution_count": 6,
   "metadata": {
    "ExecuteTime": {
     "end_time": "2019-08-21T19:16:09.794765Z",
     "start_time": "2019-08-21T19:16:09.790764Z"
    }
   },
   "outputs": [],
   "source": [
    "player1 = lh.BasicOpponent()\n",
    "player2 = lh.BasicOpponent()"
   ]
  },
  {
   "cell_type": "code",
   "execution_count": 7,
   "metadata": {
    "ExecuteTime": {
     "end_time": "2019-08-21T19:16:10.202581Z",
     "start_time": "2019-08-21T19:16:10.198608Z"
    }
   },
   "outputs": [],
   "source": [
    "obs_buffer = []"
   ]
  },
  {
   "cell_type": "code",
   "execution_count": 8,
   "metadata": {
    "ExecuteTime": {
     "end_time": "2019-08-21T19:16:22.594530Z",
     "start_time": "2019-08-21T19:16:18.495500Z"
    }
   },
   "outputs": [
    {
     "name": "stdout",
     "output_type": "stream",
     "text": [
      "Player 1 scored\n"
     ]
    }
   ],
   "source": [
    "obs = env.reset()\n",
    "obs_agent2 = env.obs_agent_two()\n",
    "for _ in range(300):\n",
    "    #env.render()\n",
    "    a1 = player1.act(obs)\n",
    "    a2 = player2.act(obs_agent2)\n",
    "    obs, r, d, info = env.step(np.hstack([a1,a2]))\n",
    "    \n",
    "    obs_buffer.append(obs)\n",
    "    obs_agent2 = env.obs_agent_two()\n",
    "    if d: break"
   ]
  },
  {
   "cell_type": "code",
   "execution_count": null,
   "metadata": {
    "ExecuteTime": {
     "end_time": "2018-12-28T12:27:58.824246Z",
     "start_time": "2018-12-28T12:27:58.813103Z"
    }
   },
   "outputs": [],
   "source": [
    "obs_buffer = np.asarray(obs_buffer)"
   ]
  },
  {
   "cell_type": "code",
   "execution_count": null,
   "metadata": {
    "ExecuteTime": {
     "end_time": "2019-08-21T19:16:27.114353Z",
     "start_time": "2019-08-21T19:16:27.103201Z"
    }
   },
   "outputs": [],
   "source": [
    "np.mean(obs_buffer,axis=0)"
   ]
  },
  {
   "cell_type": "code",
   "execution_count": null,
   "metadata": {
    "ExecuteTime": {
     "end_time": "2019-08-21T19:16:27.902145Z",
     "start_time": "2019-08-21T19:16:27.894650Z"
    }
   },
   "outputs": [],
   "source": [
    "np.std(obs_buffer,axis=0)"
   ]
  },
  {
   "cell_type": "code",
   "execution_count": null,
   "metadata": {
    "ExecuteTime": {
     "end_time": "2019-08-21T19:16:28.497119Z",
     "start_time": "2019-08-21T19:16:28.492780Z"
    }
   },
   "outputs": [],
   "source": [
    "scaling = [ 1.0,  1.0 , 3.14, 4.0, 4.0, 2.0,  \n",
    "            1.0,  1.0,  3.14, 4.0, 4.0, 2.0,  \n",
    "            2.0, 2.0, 10.0, 10.0]"
   ]
  },
  {
   "cell_type": "code",
   "execution_count": null,
   "metadata": {},
   "outputs": [],
   "source": [
    "env.close()"
   ]
  },
  {
   "cell_type": "markdown",
   "metadata": {},
   "source": [
    "# Human Opponent"
   ]
  },
  {
   "cell_type": "code",
   "execution_count": null,
   "metadata": {
    "ExecuteTime": {
     "end_time": "2019-08-21T19:16:32.838454Z",
     "start_time": "2019-08-21T19:16:32.834847Z"
    }
   },
   "outputs": [],
   "source": [
    "import time"
   ]
  },
  {
   "cell_type": "code",
   "execution_count": null,
   "metadata": {
    "ExecuteTime": {
     "end_time": "2019-08-21T19:16:33.295971Z",
     "start_time": "2019-08-21T19:16:33.290071Z"
    }
   },
   "outputs": [],
   "source": [
    "env = lh.LaserHockeyEnv()"
   ]
  },
  {
   "cell_type": "code",
   "execution_count": null,
   "metadata": {
    "ExecuteTime": {
     "end_time": "2019-08-21T19:16:33.801588Z",
     "start_time": "2019-08-21T19:16:33.738351Z"
    }
   },
   "outputs": [],
   "source": [
    "o = env.reset()\n",
    "env.render()"
   ]
  },
  {
   "cell_type": "code",
   "execution_count": null,
   "metadata": {
    "ExecuteTime": {
     "end_time": "2019-08-21T19:16:38.262611Z",
     "start_time": "2019-08-21T19:16:38.257285Z"
    }
   },
   "outputs": [],
   "source": [
    "player1 = lh.HumanOpponent(env=env, player=1)\n",
    "player2 = lh.BasicOpponent()"
   ]
  },
  {
   "cell_type": "code",
   "execution_count": null,
   "metadata": {
    "ExecuteTime": {
     "end_time": "2019-08-21T19:17:37.603826Z",
     "start_time": "2019-08-21T19:17:34.793733Z"
    },
    "scrolled": false
   },
   "outputs": [],
   "source": [
    "obs = env.reset()\n",
    "time.sleep(1)\n",
    "obs_agent2 = env.obs_agent_two()\n",
    "for _ in range(1600):\n",
    "    env.render()\n",
    "    a1 = player1.act(obs)\n",
    "    a2 = player2.act(obs_agent2)\n",
    "    obs, r, d, info = env.step(np.hstack([a1,a2]))    \n",
    "    obs_agent2 = env.obs_agent_two()\n",
    "    if d: break"
   ]
  },
  {
   "cell_type": "code",
   "execution_count": null,
   "metadata": {},
   "outputs": [],
   "source": []
  }
 ],
 "metadata": {
  "kernelspec": {
   "display_name": "Gym-RL",
   "language": "python",
   "name": "gym-rl"
  },
  "language_info": {
   "codemirror_mode": {
    "name": "ipython",
    "version": 3
   },
   "file_extension": ".py",
   "mimetype": "text/x-python",
   "name": "python",
   "nbconvert_exporter": "python",
   "pygments_lexer": "ipython3",
   "version": "3.7.3"
  },
  "toc": {
   "base_numbering": 1,
   "nav_menu": {},
   "number_sections": true,
   "sideBar": true,
   "skip_h1_title": false,
   "title_cell": "Table of Contents",
   "title_sidebar": "Contents",
   "toc_cell": false,
   "toc_position": {},
   "toc_section_display": true,
   "toc_window_display": false
  }
 },
 "nbformat": 4,
 "nbformat_minor": 2
}
